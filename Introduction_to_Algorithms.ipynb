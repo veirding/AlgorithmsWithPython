{
  "nbformat": 4,
  "nbformat_minor": 0,
  "metadata": {
    "colab": {
      "provenance": [],
      "authorship_tag": "ABX9TyM5X3TlK0suaLZzQaDxzZr7",
      "include_colab_link": true
    },
    "kernelspec": {
      "name": "python3",
      "display_name": "Python 3"
    },
    "language_info": {
      "name": "python"
    }
  },
  "cells": [
    {
      "cell_type": "markdown",
      "metadata": {
        "id": "view-in-github",
        "colab_type": "text"
      },
      "source": [
        "<a href=\"https://colab.research.google.com/github/veirding/AlgorithmsWithPython/blob/main/Introduction_to_Algorithms.ipynb\" target=\"_parent\"><img src=\"https://colab.research.google.com/assets/colab-badge.svg\" alt=\"Open In Colab\"/></a>"
      ]
    },
    {
      "cell_type": "code",
      "execution_count": null,
      "metadata": {
        "id": "B73Iu9g5AL0t"
      },
      "outputs": [],
      "source": [
        "# prompt:\n",
        "\n",
        "!git status\n"
      ]
    },
    {
      "cell_type": "markdown",
      "source": [
        "# **Introduction** to Algorithms"
      ],
      "metadata": {
        "id": "CJABg1QJAY1T"
      }
    },
    {
      "cell_type": "markdown",
      "source": [
        "*Chapter 2: Getting started*"
      ],
      "metadata": {
        "id": "Np9zAFr1AS3N"
      }
    },
    {
      "cell_type": "markdown",
      "source": [
        "\n",
        "\n",
        "1.   Insertion sort\n",
        "\n",
        "\n",
        "\n",
        "\n"
      ],
      "metadata": {
        "id": "BKVy7027BEpW"
      }
    },
    {
      "cell_type": "code",
      "source": [
        "import random\n",
        "a = [ random.randint(1, 100) for i in range(10)]\n",
        "print('Orifinal array: ',a)\n",
        "\n",
        "def sort(arr):\n",
        "    for i in range(1, len(arr)):\n",
        "        j = i\n",
        "        while arr[j-1] > arr[j] and j > 0:\n",
        "            arr[j-1], arr[j] = arr[j], arr[j-1]\n",
        "            j -= 1\n",
        "    return arr\n",
        "\n",
        "print('Sorted array: ', sort(a))"
      ],
      "metadata": {
        "colab": {
          "base_uri": "https://localhost:8080/"
        },
        "id": "OrUhPEwlBYMo",
        "outputId": "dc0efbbd-bc1f-4420-91e3-736c3b8871e3"
      },
      "execution_count": 5,
      "outputs": [
        {
          "output_type": "stream",
          "name": "stdout",
          "text": [
            "Orifinal array:  [20, 32, 96, 67, 76, 77, 52, 11, 63, 20]\n",
            "Sorted array:  [11, 20, 20, 32, 52, 63, 67, 76, 77, 96]\n"
          ]
        }
      ]
    },
    {
      "cell_type": "markdown",
      "source": [
        "2.   The devide-and-conquer approach, merge sort algorithm.\n",
        "\n"
      ],
      "metadata": {
        "id": "3NzFpKO0BWYF"
      }
    },
    {
      "cell_type": "code",
      "source": [
        "import random\n",
        "a = [ random.randint(1, 100) for i in range(20)]\n",
        "print('Orifinal array: ',a)\n",
        "\n",
        "def merge_sort(arr):\n",
        "    if len(arr) > 1:\n",
        "        L = arr[:len(arr)//2]\n",
        "        R = arr[len(arr)//2:]\n",
        "        #recurtion\n",
        "        merge_sort(L)\n",
        "        merge_sort(R)\n",
        "        #merge\n",
        "        i = j = k = 0\n",
        "        while i < len(L) and j < len(R):\n",
        "            if L[i] < R[j]:\n",
        "                arr[k] = L[i]\n",
        "                i += 1\n",
        "            else:\n",
        "                arr[k] = R[j]\n",
        "                j += 1\n",
        "            k += 1\n",
        "        while i < len(L):\n",
        "            arr[k] = L[i]\n",
        "            i += 1\n",
        "            k += 1\n",
        "        while j < len(R):\n",
        "            arr[k] = R[j]\n",
        "            j += 1\n",
        "            k += 1\n",
        "    return arr\n",
        "\n",
        "print('Sorted array: ', merge_sort(a))"
      ],
      "metadata": {
        "colab": {
          "base_uri": "https://localhost:8080/"
        },
        "id": "YLOCwk-OTHoR",
        "outputId": "ece1fafd-1c42-4ac3-e67b-2fdd86b90d88"
      },
      "execution_count": 2,
      "outputs": [
        {
          "output_type": "stream",
          "name": "stdout",
          "text": [
            "Orifinal array:  [82, 56, 10, 41, 46, 59, 83, 47, 62, 80, 74, 94, 66, 50, 92, 82, 72, 95, 48, 98]\n",
            "Sorted array:  [10, 41, 46, 47, 48, 50, 56, 59, 62, 66, 72, 74, 80, 82, 82, 83, 92, 94, 95, 98]\n"
          ]
        }
      ]
    },
    {
      "cell_type": "markdown",
      "source": [],
      "metadata": {
        "id": "HfBnBP--BWfY"
      }
    },
    {
      "cell_type": "markdown",
      "source": [],
      "metadata": {
        "id": "Z9tHoZwdBWnx"
      }
    },
    {
      "cell_type": "markdown",
      "source": [],
      "metadata": {
        "id": "XG5PZPsaBWvE"
      }
    },
    {
      "cell_type": "markdown",
      "source": [],
      "metadata": {
        "id": "Y-tvJDg_BW2P"
      }
    },
    {
      "cell_type": "markdown",
      "source": [],
      "metadata": {
        "id": "hiuuVNZCBW9k"
      }
    }
  ]
}