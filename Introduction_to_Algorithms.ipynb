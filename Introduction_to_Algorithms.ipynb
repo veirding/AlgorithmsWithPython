{
  "nbformat": 4,
  "nbformat_minor": 0,
  "metadata": {
    "colab": {
      "provenance": [],
      "authorship_tag": "ABX9TyPpGD/zjKLzeKa8oNFKq8sv",
      "include_colab_link": true
    },
    "kernelspec": {
      "name": "python3",
      "display_name": "Python 3"
    },
    "language_info": {
      "name": "python"
    }
  },
  "cells": [
    {
      "cell_type": "markdown",
      "metadata": {
        "id": "view-in-github",
        "colab_type": "text"
      },
      "source": [
        "<a href=\"https://colab.research.google.com/github/veirding/AlgorithmsWithPython/blob/main/Introduction_to_Algorithms.ipynb\" target=\"_parent\"><img src=\"https://colab.research.google.com/assets/colab-badge.svg\" alt=\"Open In Colab\"/></a>"
      ]
    },
    {
      "cell_type": "code",
      "execution_count": null,
      "metadata": {
        "id": "B73Iu9g5AL0t"
      },
      "outputs": [],
      "source": [
        "# prompt:\n",
        "\n",
        "!git status\n"
      ]
    },
    {
      "cell_type": "markdown",
      "source": [
        "# **Introduction** to Algorithms"
      ],
      "metadata": {
        "id": "CJABg1QJAY1T"
      }
    },
    {
      "cell_type": "markdown",
      "source": [
        "*Chapter 2: Getting started*"
      ],
      "metadata": {
        "id": "Np9zAFr1AS3N"
      }
    },
    {
      "cell_type": "markdown",
      "source": [
        "\n",
        "\n",
        "1.   Insertion sort\n",
        "\n",
        "\n",
        "\n",
        "\n"
      ],
      "metadata": {
        "id": "BKVy7027BEpW"
      }
    },
    {
      "cell_type": "code",
      "source": [
        "import random\n",
        "a = [ random.randint(1, 100) for i in range(10)]\n",
        "print('Orifinal array: ',a)\n",
        "\n",
        "def sort(arr):\n",
        "    for i in range(1, len(arr)):\n",
        "        j = i\n",
        "        while arr[j-1] > arr[j] and j > 0:\n",
        "            arr[j-1], arr[j] = arr[j], arr[j-1]\n",
        "            j -= 1\n",
        "    return arr\n",
        "\n",
        "print('Sorted array: ', sort(a))"
      ],
      "metadata": {
        "colab": {
          "base_uri": "https://localhost:8080/"
        },
        "id": "OrUhPEwlBYMo",
        "outputId": "dc0efbbd-bc1f-4420-91e3-736c3b8871e3"
      },
      "execution_count": null,
      "outputs": [
        {
          "output_type": "stream",
          "name": "stdout",
          "text": [
            "Orifinal array:  [20, 32, 96, 67, 76, 77, 52, 11, 63, 20]\n",
            "Sorted array:  [11, 20, 20, 32, 52, 63, 67, 76, 77, 96]\n"
          ]
        }
      ]
    },
    {
      "cell_type": "markdown",
      "source": [
        "2.   The devide-and-conquer approach, merge sort algorithm.\n",
        "\n"
      ],
      "metadata": {
        "id": "3NzFpKO0BWYF"
      }
    },
    {
      "cell_type": "code",
      "source": [
        "import random\n",
        "a = [ random.randint(1, 100) for i in range(20)]\n",
        "print('Orifinal array: ',a)\n",
        "\n",
        "def merge_sort(arr):\n",
        "    if len(arr) > 1:\n",
        "        L = arr[:len(arr)//2]\n",
        "        R = arr[len(arr)//2:]\n",
        "        #recurtion\n",
        "        merge_sort(L)\n",
        "        merge_sort(R)\n",
        "        #merge\n",
        "        i = j = k = 0\n",
        "        while i < len(L) and j < len(R):\n",
        "            if L[i] < R[j]:\n",
        "                arr[k] = L[i]\n",
        "                i += 1\n",
        "            else:\n",
        "                arr[k] = R[j]\n",
        "                j += 1\n",
        "            k += 1\n",
        "        while i < len(L):\n",
        "            arr[k] = L[i]\n",
        "            i += 1\n",
        "            k += 1\n",
        "        while j < len(R):\n",
        "            arr[k] = R[j]\n",
        "            j += 1\n",
        "            k += 1\n",
        "    return arr\n",
        "\n",
        "print('Sorted array: ', merge_sort(a))"
      ],
      "metadata": {
        "colab": {
          "base_uri": "https://localhost:8080/"
        },
        "id": "YLOCwk-OTHoR",
        "outputId": "bf9ed59e-1c65-4b8f-9a2a-59ad713d0a75"
      },
      "execution_count": 18,
      "outputs": [
        {
          "output_type": "stream",
          "name": "stdout",
          "text": [
            "Orifinal array:  [29, 93, 16, 48, 93, 84, 100, 5, 91, 80, 56, 17, 19, 6, 31, 93, 78, 59, 68, 81]\n",
            "Sorted array:  [5, 6, 16, 17, 19, 29, 31, 48, 56, 59, 68, 78, 80, 81, 84, 91, 93, 93, 93, 100]\n"
          ]
        }
      ]
    },
    {
      "cell_type": "markdown",
      "source": [
        "3.   Bubblesort (popular, but inefficient)"
      ],
      "metadata": {
        "id": "HfBnBP--BWfY"
      }
    },
    {
      "cell_type": "code",
      "source": [
        "import random\n",
        "a = [ random.randint(1, 100) for i in range(20)]\n",
        "print('Orifinal array: ',a)\n",
        "\n",
        "def bubblesort(arr):\n",
        "  for i in range(len(arr)-1):\n",
        "    for j in range(0, len(arr)-i-1):\n",
        "      if arr[j] > arr[j + 1]:\n",
        "        #swapped = True\n",
        "        arr[j], arr[j + 1] = arr[j + 1], arr[j]\n",
        "\n",
        "  return arr\n",
        "\n",
        "print('Sorted array: ', bubblesort(a))"
      ],
      "metadata": {
        "colab": {
          "base_uri": "https://localhost:8080/"
        },
        "id": "36VgW_Pfl7P9",
        "outputId": "a38af3ec-a215-491a-d1fc-4e8c6c010d90"
      },
      "execution_count": 17,
      "outputs": [
        {
          "output_type": "stream",
          "name": "stdout",
          "text": [
            "Orifinal array:  [65, 45, 93, 15, 32, 40, 34, 22, 93, 37, 94, 10, 62, 10, 16, 30, 67, 62, 59, 26]\n",
            "Sorted array:  [10, 10, 15, 16, 22, 26, 30, 32, 34, 37, 40, 45, 59, 62, 62, 65, 67, 93, 93, 94]\n"
          ]
        }
      ]
    },
    {
      "cell_type": "markdown",
      "source": [],
      "metadata": {
        "id": "Z9tHoZwdBWnx"
      }
    },
    {
      "cell_type": "markdown",
      "source": [],
      "metadata": {
        "id": "XG5PZPsaBWvE"
      }
    },
    {
      "cell_type": "markdown",
      "source": [],
      "metadata": {
        "id": "Y-tvJDg_BW2P"
      }
    },
    {
      "cell_type": "markdown",
      "source": [],
      "metadata": {
        "id": "hiuuVNZCBW9k"
      }
    }
  ]
}